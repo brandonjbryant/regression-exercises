{
 "cells": [
  {
   "cell_type": "markdown",
   "metadata": {},
   "source": [
    "# <font color=\"darkgreen\"> Exercises</font>"
   ]
  },
  {
   "cell_type": "code",
   "execution_count": 1,
   "metadata": {},
   "outputs": [],
   "source": [
    "#Imports\n",
    "import pandas as pd\n",
    "import numpy as np\n",
    "import seaborn as sns\n",
    "import matplotlib.pyplot as plt\n",
    "import wrangle\n",
    "from wrangle import wrangle_telco\n",
    "from wrangle import acquire_telco\n",
    "from wrangle import clean_telco\n",
    "import sklearn.preprocessing\n",
    "from sklearn.model_selection import train_test_split\n",
    "import warnings\n",
    "warnings.filterwarnings('ignore')\n"
   ]
  },
  {
   "cell_type": "code",
   "execution_count": 2,
   "metadata": {},
   "outputs": [
    {
     "data": {
      "text/html": [
       "<div>\n",
       "<style scoped>\n",
       "    .dataframe tbody tr th:only-of-type {\n",
       "        vertical-align: middle;\n",
       "    }\n",
       "\n",
       "    .dataframe tbody tr th {\n",
       "        vertical-align: top;\n",
       "    }\n",
       "\n",
       "    .dataframe thead th {\n",
       "        text-align: right;\n",
       "    }\n",
       "</style>\n",
       "<table border=\"1\" class=\"dataframe\">\n",
       "  <thead>\n",
       "    <tr style=\"text-align: right;\">\n",
       "      <th></th>\n",
       "      <th>monthly_charges</th>\n",
       "      <th>tenure</th>\n",
       "      <th>total_charges</th>\n",
       "    </tr>\n",
       "    <tr>\n",
       "      <th>customer_id</th>\n",
       "      <th></th>\n",
       "      <th></th>\n",
       "      <th></th>\n",
       "    </tr>\n",
       "  </thead>\n",
       "  <tbody>\n",
       "    <tr>\n",
       "      <th>3396-DKDEL</th>\n",
       "      <td>115.15</td>\n",
       "      <td>70</td>\n",
       "      <td>8250.00</td>\n",
       "    </tr>\n",
       "    <tr>\n",
       "      <th>8966-KZXXA</th>\n",
       "      <td>25.10</td>\n",
       "      <td>36</td>\n",
       "      <td>930.95</td>\n",
       "    </tr>\n",
       "    <tr>\n",
       "      <th>8857-CUPFQ</th>\n",
       "      <td>19.25</td>\n",
       "      <td>63</td>\n",
       "      <td>1237.65</td>\n",
       "    </tr>\n",
       "    <tr>\n",
       "      <th>6901-GOGZG</th>\n",
       "      <td>84.95</td>\n",
       "      <td>60</td>\n",
       "      <td>4984.85</td>\n",
       "    </tr>\n",
       "    <tr>\n",
       "      <th>8606-OEGQZ</th>\n",
       "      <td>25.30</td>\n",
       "      <td>18</td>\n",
       "      <td>454.65</td>\n",
       "    </tr>\n",
       "  </tbody>\n",
       "</table>\n",
       "</div>"
      ],
      "text/plain": [
       "             monthly_charges  tenure  total_charges\n",
       "customer_id                                        \n",
       "3396-DKDEL            115.15      70        8250.00\n",
       "8966-KZXXA             25.10      36         930.95\n",
       "8857-CUPFQ             19.25      63        1237.65\n",
       "6901-GOGZG             84.95      60        4984.85\n",
       "8606-OEGQZ             25.30      18         454.65"
      ]
     },
     "execution_count": 2,
     "metadata": {},
     "output_type": "execute_result"
    }
   ],
   "source": [
    "#prep\n",
    "train, validate, test = wrangle_telco(split=True)\n",
    "train.head()"
   ]
  },
  {
   "cell_type": "markdown",
   "metadata": {},
   "source": [
    "**1. Apply the scalers we talked about in this lesson to your data and visualize the results in a way that can.**"
   ]
  },
  {
   "cell_type": "code",
   "execution_count": 3,
   "metadata": {},
   "outputs": [
    {
     "data": {
      "text/plain": [
       "array([[<AxesSubplot:title={'center':'monthly_charges'}>,\n",
       "        <AxesSubplot:title={'center':'tenure'}>],\n",
       "       [<AxesSubplot:title={'center':'total_charges'}>, <AxesSubplot:>]],\n",
       "      dtype=object)"
      ]
     },
     "execution_count": 3,
     "metadata": {},
     "output_type": "execute_result"
    },
    {
     "data": {
      "image/png": "[encoded data removed]",
      "text/plain": [
       "<Figure size 432x288 with 4 Axes>"
      ]
     },
     "metadata": {
      "needs_background": "light"
     },
     "output_type": "display_data"
    }
   ],
   "source": [
    "train.hist()"
   ]
  },
  {
   "cell_type": "code",
   "execution_count": 4,
   "metadata": {},
   "outputs": [
    {
     "data": {
      "text/plain": [
       "18.4"
      ]
     },
     "execution_count": 4,
     "metadata": {},
     "output_type": "execute_result"
    }
   ],
   "source": [
    "train.monthly_charges.min()"
   ]
  },
  {
   "cell_type": "code",
   "execution_count": 5,
   "metadata": {},
   "outputs": [
    {
     "data": {
      "text/plain": [
       "118.75"
      ]
     },
     "execution_count": 5,
     "metadata": {},
     "output_type": "execute_result"
    }
   ],
   "source": [
    "train.monthly_charges.max()"
   ]
  },
  {
   "cell_type": "code",
   "execution_count": 6,
   "metadata": {},
   "outputs": [
    {
     "data": {
      "text/plain": [
       "20.45"
      ]
     },
     "execution_count": 6,
     "metadata": {},
     "output_type": "execute_result"
    }
   ],
   "source": [
    "train.total_charges.min()"
   ]
  },
  {
   "cell_type": "code",
   "execution_count": 7,
   "metadata": {},
   "outputs": [
    {
     "data": {
      "text/plain": [
       "8672.45"
      ]
     },
     "execution_count": 7,
     "metadata": {},
     "output_type": "execute_result"
    }
   ],
   "source": [
    "train.total_charges.max()"
   ]
  },
  {
   "cell_type": "code",
   "execution_count": 8,
   "metadata": {},
   "outputs": [],
   "source": [
    "#Scalers"
   ]
  },
  {
   "cell_type": "markdown",
   "metadata": {},
   "source": [
    "### <font color=\"purple\">Min-Max Scaler</font>\n"
   ]
  },
  {
   "cell_type": "code",
   "execution_count": 9,
   "metadata": {},
   "outputs": [],
   "source": [
    "#make the thing\n",
    "scaler = sklearn.preprocessing.MinMaxScaler()"
   ]
  },
  {
   "cell_type": "code",
   "execution_count": 10,
   "metadata": {},
   "outputs": [
    {
     "data": {
      "text/plain": [
       "MinMaxScaler()"
      ]
     },
     "execution_count": 10,
     "metadata": {},
     "output_type": "execute_result"
    }
   ],
   "source": [
    "# We fit on the training data\n",
    "# in a way, we treat our scalers like our ML models\n",
    "# we only .fit on the training data\n",
    "scaler.fit(train)"
   ]
  },
  {
   "cell_type": "code",
   "execution_count": 11,
   "metadata": {},
   "outputs": [],
   "source": [
    "train_scaled = scaler.transform(train)\n",
    "validate_scaled = scaler.transform(validate)\n",
    "test_scaled = scaler.transform(test)\n"
   ]
  },
  {
   "cell_type": "code",
   "execution_count": 12,
   "metadata": {},
   "outputs": [
    {
     "data": {
      "text/plain": [
       "array([[0.96412556, 0.97183099, 0.95117314],\n",
       "       [0.06676632, 0.49295775, 0.10523578],\n",
       "       [0.00847035, 0.87323944, 0.14068423],\n",
       "       [0.66317887, 0.83098592, 0.57378641],\n",
       "       [0.06875934, 0.23943662, 0.05018493]])"
      ]
     },
     "execution_count": 12,
     "metadata": {},
     "output_type": "execute_result"
    }
   ],
   "source": [
    "train_scaled[0:5]"
   ]
  },
  {
   "cell_type": "code",
   "execution_count": 13,
   "metadata": {},
   "outputs": [],
   "source": [
    "# turn the numpy arrays into dataframes\n",
    "train_scaled = pd.DataFrame(train_scaled, columns=train.columns)\n",
    "validate_scaled = pd.DataFrame(validate_scaled, columns=train.columns)\n",
    "test_scaled = pd.DataFrame(test_scaled, columns=train.columns)"
   ]
  },
  {
   "cell_type": "code",
   "execution_count": 14,
   "metadata": {},
   "outputs": [
    {
     "data": {
      "text/html": [
       "<div>\n",
       "<style scoped>\n",
       "    .dataframe tbody tr th:only-of-type {\n",
       "        vertical-align: middle;\n",
       "    }\n",
       "\n",
       "    .dataframe tbody tr th {\n",
       "        vertical-align: top;\n",
       "    }\n",
       "\n",
       "    .dataframe thead th {\n",
       "        text-align: right;\n",
       "    }\n",
       "</style>\n",
       "<table border=\"1\" class=\"dataframe\">\n",
       "  <thead>\n",
       "    <tr style=\"text-align: right;\">\n",
       "      <th></th>\n",
       "      <th>monthly_charges</th>\n",
       "      <th>tenure</th>\n",
       "      <th>total_charges</th>\n",
       "    </tr>\n",
       "  </thead>\n",
       "  <tbody>\n",
       "    <tr>\n",
       "      <th>0</th>\n",
       "      <td>0.964126</td>\n",
       "      <td>0.971831</td>\n",
       "      <td>0.951173</td>\n",
       "    </tr>\n",
       "    <tr>\n",
       "      <th>1</th>\n",
       "      <td>0.066766</td>\n",
       "      <td>0.492958</td>\n",
       "      <td>0.105236</td>\n",
       "    </tr>\n",
       "    <tr>\n",
       "      <th>2</th>\n",
       "      <td>0.008470</td>\n",
       "      <td>0.873239</td>\n",
       "      <td>0.140684</td>\n",
       "    </tr>\n",
       "    <tr>\n",
       "      <th>3</th>\n",
       "      <td>0.663179</td>\n",
       "      <td>0.830986</td>\n",
       "      <td>0.573786</td>\n",
       "    </tr>\n",
       "    <tr>\n",
       "      <th>4</th>\n",
       "      <td>0.068759</td>\n",
       "      <td>0.239437</td>\n",
       "      <td>0.050185</td>\n",
       "    </tr>\n",
       "  </tbody>\n",
       "</table>\n",
       "</div>"
      ],
      "text/plain": [
       "   monthly_charges    tenure  total_charges\n",
       "0         0.964126  0.971831       0.951173\n",
       "1         0.066766  0.492958       0.105236\n",
       "2         0.008470  0.873239       0.140684\n",
       "3         0.663179  0.830986       0.573786\n",
       "4         0.068759  0.239437       0.050185"
      ]
     },
     "execution_count": 14,
     "metadata": {},
     "output_type": "execute_result"
    }
   ],
   "source": [
    "train_scaled.head()"
   ]
  },
  {
   "cell_type": "code",
   "execution_count": 15,
   "metadata": {},
   "outputs": [
    {
     "data": {
      "text/plain": [
       "<AxesSubplot:>"
      ]
     },
     "execution_count": 15,
     "metadata": {},
     "output_type": "execute_result"
    },
    {
     "data": {
      "image/png": "[encoded data removed]",
      "text/plain": [
       "<Figure size 432x288 with 1 Axes>"
      ]
     },
     "metadata": {
      "needs_background": "light"
     },
     "output_type": "display_data"
    }
   ],
   "source": [
    "train_scaled.monthly_charges.hist()"
   ]
  },
  {
   "cell_type": "code",
   "execution_count": 16,
   "metadata": {},
   "outputs": [
    {
     "data": {
      "text/plain": [
       "<AxesSubplot:>"
      ]
     },
     "execution_count": 16,
     "metadata": {},
     "output_type": "execute_result"
    },
    {
     "data": {
      "image/png": "[encoded data removed]",
      "text/plain": [
       "<Figure size 432x288 with 1 Axes>"
      ]
     },
     "metadata": {
      "needs_background": "light"
     },
     "output_type": "display_data"
    }
   ],
   "source": [
    "train_scaled.total_charges.hist()"
   ]
  },
  {
   "cell_type": "code",
   "execution_count": 17,
   "metadata": {},
   "outputs": [
    {
     "data": {
      "text/plain": [
       "<AxesSubplot:>"
      ]
     },
     "execution_count": 17,
     "metadata": {},
     "output_type": "execute_result"
    },
    {
     "data": {
      "image/png": "[encoded data removed]",
      "text/plain": [
       "<Figure size 432x288 with 1 Axes>"
      ]
     },
     "metadata": {
      "needs_background": "light"
     },
     "output_type": "display_data"
    }
   ],
   "source": [
    "train_scaled.tenure.hist()"
   ]
  },
  {
   "cell_type": "code",
   "execution_count": 18,
   "metadata": {},
   "outputs": [
    {
     "data": {
      "text/plain": [
       "array([[<AxesSubplot:title={'center':'monthly_charges'}>,\n",
       "        <AxesSubplot:title={'center':'tenure'}>],\n",
       "       [<AxesSubplot:title={'center':'total_charges'}>, <AxesSubplot:>]],\n",
       "      dtype=object)"
      ]
     },
     "execution_count": 18,
     "metadata": {},
     "output_type": "execute_result"
    },
    {
     "data": {
      "image/png": "[encoded data removed]",
      "text/plain": [
       "<Figure size 432x288 with 4 Axes>"
      ]
     },
     "metadata": {
      "needs_background": "light"
     },
     "output_type": "display_data"
    }
   ],
   "source": [
    "train_scaled.hist()"
   ]
  },
  {
   "cell_type": "markdown",
   "metadata": {},
   "source": [
    "### <font color='darkcyan'>Standard Scaler</font>"
   ]
  },
  {
   "cell_type": "code",
   "execution_count": 19,
   "metadata": {},
   "outputs": [
    {
     "data": {
      "text/plain": [
       "StandardScaler()"
      ]
     },
     "execution_count": 19,
     "metadata": {},
     "output_type": "execute_result"
    }
   ],
   "source": [
    "scaler2 = sklearn.preprocessing.StandardScaler()\n",
    "scaler2.fit(train)"
   ]
  },
  {
   "cell_type": "code",
   "execution_count": 20,
   "metadata": {},
   "outputs": [],
   "source": [
    "standard_train_scaled = scaler2.transform(train)\n",
    "standard_validate_scaled = scaler2.transform(validate)\n",
    "standard_test_scaled = scaler2.transform(test)\n"
   ]
  },
  {
   "cell_type": "code",
   "execution_count": 21,
   "metadata": {},
   "outputs": [],
   "source": [
    "# turn the numpy arrays into dataframes\n",
    "standard_train_scaled = pd.DataFrame(standard_train_scaled, columns=train.columns)\n",
    "standard_validate_scaled = pd.DataFrame(standard_validate_scaled, columns=train.columns)\n",
    "standard_test_scaled = pd.DataFrame(standard_test_scaled, columns=train.columns)"
   ]
  },
  {
   "cell_type": "code",
   "execution_count": 22,
   "metadata": {},
   "outputs": [
    {
     "data": {
      "text/plain": [
       "array([[<AxesSubplot:title={'center':'monthly_charges'}>,\n",
       "        <AxesSubplot:title={'center':'tenure'}>],\n",
       "       [<AxesSubplot:title={'center':'total_charges'}>, <AxesSubplot:>]],\n",
       "      dtype=object)"
      ]
     },
     "execution_count": 22,
     "metadata": {},
     "output_type": "execute_result"
    },
    {
     "data": {
      "image/png": "[encoded data removed]",
      "text/plain": [
       "<Figure size 432x288 with 4 Axes>"
      ]
     },
     "metadata": {
      "needs_background": "light"
     },
     "output_type": "display_data"
    }
   ],
   "source": [
    "standard_train_scaled.hist()"
   ]
  },
  {
   "cell_type": "markdown",
   "metadata": {},
   "source": [
    "### <font color='violet'>Robust Scaler</font>"
   ]
  },
  {
   "cell_type": "code",
   "execution_count": 23,
   "metadata": {},
   "outputs": [
    {
     "data": {
      "text/plain": [
       "RobustScaler()"
      ]
     },
     "execution_count": 23,
     "metadata": {},
     "output_type": "execute_result"
    }
   ],
   "source": [
    "scaler3 = sklearn.preprocessing.RobustScaler()\n",
    "scaler3.fit(train)"
   ]
  },
  {
   "cell_type": "code",
   "execution_count": 24,
   "metadata": {},
   "outputs": [],
   "source": [
    "rob_train_scaled = scaler3.transform(train)\n",
    "rob_validate_scaled = scaler3.transform(validate)\n",
    "rob_test_scaled = scaler3.transform(test)"
   ]
  },
  {
   "cell_type": "code",
   "execution_count": 25,
   "metadata": {},
   "outputs": [],
   "source": [
    "rob_train_scaled = pd.DataFrame(rob_train_scaled, columns= train.columns)\n",
    "rob_validate_scaled = pd.DataFrame(rob_validate_scaled, columns= train.columns)\n",
    "rob_test_scaled =pd.DataFrame(rob_test_scaled, columns = train.columns)\n"
   ]
  },
  {
   "cell_type": "code",
   "execution_count": 26,
   "metadata": {},
   "outputs": [
    {
     "data": {
      "text/plain": [
       "array([[<AxesSubplot:title={'center':'monthly_charges'}>,\n",
       "        <AxesSubplot:title={'center':'tenure'}>],\n",
       "       [<AxesSubplot:title={'center':'total_charges'}>, <AxesSubplot:>]],\n",
       "      dtype=object)"
      ]
     },
     "execution_count": 26,
     "metadata": {},
     "output_type": "execute_result"
    },
    {
     "data": {
      "image/png": "[encoded data removed]",
      "text/plain": [
       "<Figure size 432x288 with 4 Axes>"
      ]
     },
     "metadata": {
      "needs_background": "light"
     },
     "output_type": "display_data"
    }
   ],
   "source": [
    "rob_train_scaled.hist()"
   ]
  },
  {
   "cell_type": "markdown",
   "metadata": {},
   "source": [
    "**2. Apply the `inverse_transform` method to your scaled data. Is the resulting dataset the exact same as the original data?**"
   ]
  },
  {
   "cell_type": "code",
   "execution_count": 27,
   "metadata": {},
   "outputs": [
    {
     "data": {
      "text/html": [
       "<div>\n",
       "<style scoped>\n",
       "    .dataframe tbody tr th:only-of-type {\n",
       "        vertical-align: middle;\n",
       "    }\n",
       "\n",
       "    .dataframe tbody tr th {\n",
       "        vertical-align: top;\n",
       "    }\n",
       "\n",
       "    .dataframe thead th {\n",
       "        text-align: right;\n",
       "    }\n",
       "</style>\n",
       "<table border=\"1\" class=\"dataframe\">\n",
       "  <thead>\n",
       "    <tr style=\"text-align: right;\">\n",
       "      <th></th>\n",
       "      <th>monthly_charges</th>\n",
       "      <th>tenure</th>\n",
       "      <th>total_charges</th>\n",
       "    </tr>\n",
       "  </thead>\n",
       "  <tbody>\n",
       "    <tr>\n",
       "      <th>0</th>\n",
       "      <td>115.15</td>\n",
       "      <td>70.0</td>\n",
       "      <td>8250.00</td>\n",
       "    </tr>\n",
       "    <tr>\n",
       "      <th>1</th>\n",
       "      <td>25.10</td>\n",
       "      <td>36.0</td>\n",
       "      <td>930.95</td>\n",
       "    </tr>\n",
       "    <tr>\n",
       "      <th>2</th>\n",
       "      <td>19.25</td>\n",
       "      <td>63.0</td>\n",
       "      <td>1237.65</td>\n",
       "    </tr>\n",
       "    <tr>\n",
       "      <th>3</th>\n",
       "      <td>84.95</td>\n",
       "      <td>60.0</td>\n",
       "      <td>4984.85</td>\n",
       "    </tr>\n",
       "    <tr>\n",
       "      <th>4</th>\n",
       "      <td>25.30</td>\n",
       "      <td>18.0</td>\n",
       "      <td>454.65</td>\n",
       "    </tr>\n",
       "  </tbody>\n",
       "</table>\n",
       "</div>"
      ],
      "text/plain": [
       "   monthly_charges  tenure  total_charges\n",
       "0           115.15    70.0        8250.00\n",
       "1            25.10    36.0         930.95\n",
       "2            19.25    63.0        1237.65\n",
       "3            84.95    60.0        4984.85\n",
       "4            25.30    18.0         454.65"
      ]
     },
     "execution_count": 27,
     "metadata": {},
     "output_type": "execute_result"
    }
   ],
   "source": [
    "train_unscaled = scaler.inverse_transform(train_scaled)\n",
    "train_unscaled = pd.DataFrame(train_unscaled, columns=train.columns)\n",
    "train_unscaled.head()"
   ]
  },
  {
   "cell_type": "markdown",
   "metadata": {},
   "source": [
    "#### ^\n",
    "<font color=\"darkgreen\">The resulting dataset is the same as the original data</font>"
   ]
  },
  {
   "cell_type": "markdown",
   "metadata": {},
   "source": [
    "**3. Read the documentation for sklearn's `QuantileTransformer`. Use normal for the `output_distribution` and apply this scaler to your data. Visualize the result of your data scaling.**"
   ]
  },
  {
   "cell_type": "code",
   "execution_count": 28,
   "metadata": {},
   "outputs": [
    {
     "data": {
      "text/plain": [
       "QuantileTransformer(output_distribution='normal')"
      ]
     },
     "execution_count": 28,
     "metadata": {},
     "output_type": "execute_result"
    }
   ],
   "source": [
    "quant_scaler = sklearn.preprocessing.QuantileTransformer(output_distribution='normal')\n",
    "quant_scaler.fit(train)"
   ]
  },
  {
   "cell_type": "code",
   "execution_count": 29,
   "metadata": {},
   "outputs": [],
   "source": [
    "train_quant = quant_scaler.transform(train)\n",
    "train_quant = pd.DataFrame(train_quant, columns = train.columns)"
   ]
  },
  {
   "cell_type": "code",
   "execution_count": 30,
   "metadata": {},
   "outputs": [
    {
     "data": {
      "text/plain": [
       "array([[<AxesSubplot:title={'center':'monthly_charges'}>,\n",
       "        <AxesSubplot:title={'center':'tenure'}>],\n",
       "       [<AxesSubplot:title={'center':'total_charges'}>, <AxesSubplot:>]],\n",
       "      dtype=object)"
      ]
     },
     "execution_count": 30,
     "metadata": {},
     "output_type": "execute_result"
    },
    {
     "data": {
      "image/png": "[encoded data removed]",
      "text/plain": [
       "<Figure size 432x288 with 4 Axes>"
      ]
     },
     "metadata": {
      "needs_background": "light"
     },
     "output_type": "display_data"
    }
   ],
   "source": [
    "train_quant.hist()"
   ]
  },
  {
   "cell_type": "markdown",
   "metadata": {},
   "source": [
    "**4. Use the `QuantileTransformer`, but omit the `output_distribution` argument. Visualize your results. What do you notice?**"
   ]
  },
  {
   "cell_type": "code",
   "execution_count": 31,
   "metadata": {},
   "outputs": [
    {
     "data": {
      "text/plain": [
       "QuantileTransformer()"
      ]
     },
     "execution_count": 31,
     "metadata": {},
     "output_type": "execute_result"
    }
   ],
   "source": [
    "quant_scaler2 = sklearn.preprocessing.QuantileTransformer()\n",
    "quant_scaler2.fit(train)"
   ]
  },
  {
   "cell_type": "code",
   "execution_count": 32,
   "metadata": {},
   "outputs": [],
   "source": [
    "train_quant2 = quant_scaler2.transform(train)\n",
    "train_quant2 = pd.DataFrame(train_quant2, columns=train.columns)"
   ]
  },
  {
   "cell_type": "code",
   "execution_count": 33,
   "metadata": {},
   "outputs": [
    {
     "data": {
      "text/plain": [
       "array([[<AxesSubplot:title={'center':'monthly_charges'}>,\n",
       "        <AxesSubplot:title={'center':'tenure'}>],\n",
       "       [<AxesSubplot:title={'center':'total_charges'}>, <AxesSubplot:>]],\n",
       "      dtype=object)"
      ]
     },
     "execution_count": 33,
     "metadata": {},
     "output_type": "execute_result"
    },
    {
     "data": {
      "image/png": "[encoded data removed]",
      "text/plain": [
       "<Figure size 432x288 with 4 Axes>"
      ]
     },
     "metadata": {
      "needs_background": "light"
     },
     "output_type": "display_data"
    }
   ],
   "source": [
    "train_quant2.hist()"
   ]
  },
  {
   "cell_type": "markdown",
   "metadata": {},
   "source": [
    "**5. Based on the work you've done, choose a scaling method for your dataset. Write a function within your `prepare.py` that accepts as input the train, validate, and test data splits, and returns the scaled versions of each. Be sure to only learn the parameters for scaling from your training data!**"
   ]
  },
  {
   "cell_type": "code",
   "execution_count": 34,
   "metadata": {},
   "outputs": [],
   "source": [
    "def scale_data(train,validate,test):\n",
    "    '''Accepts train, validate, test data frames and applies min-max scaler\n",
    "    return: train, validate, test scaled pandas dataframe'''\n",
    "    \n",
    "    scaler = sklearn.preprocessing.MinMaxScaler()\n",
    "    scaler.fit(train)\n",
    "    \n",
    "    train_scaled = scaler.transform(train)\n",
    "    validate_scaled = scaler.transform(validate)\n",
    "    test_scaled = scaler.transform(test)\n",
    "    \n",
    "    train_scaled = pd.DataFrame(train_scaled, columns=train.columns)\n",
    "    validate_scaled = pd.DataFrame(validate_scaled, columns=train.columns)\n",
    "    test_scaled = pd.DataFrame(test_scaled, columns=train.columns)\n",
    "    \n",
    "    return train_scaled, validate_scaled, test_scaled"
   ]
  },
  {
   "cell_type": "code",
   "execution_count": 35,
   "metadata": {},
   "outputs": [],
   "source": [
    "#insert border seperation here"
   ]
  },
  {
   "cell_type": "markdown",
   "metadata": {},
   "source": [
    "## **Post Walkthrough Exercises**"
   ]
  },
  {
   "cell_type": "code",
   "execution_count": 36,
   "metadata": {},
   "outputs": [],
   "source": [
    "import pandas as pd\n",
    "import numpy as np\n",
    "import env\n",
    "import wrangle\n",
    "import matplotlib.pyplot as plt\n",
    "import sklearn.preprocessing\n",
    "from sklearn.model_selection import train_test_split"
   ]
  },
  {
   "cell_type": "code",
   "execution_count": 37,
   "metadata": {},
   "outputs": [],
   "source": [
    "# data wrangling\n",
    "df = wrangle.wrangle_telco()"
   ]
  },
  {
   "cell_type": "code",
   "execution_count": 38,
   "metadata": {},
   "outputs": [
    {
     "data": {
      "text/html": [
       "<div>\n",
       "<style scoped>\n",
       "    .dataframe tbody tr th:only-of-type {\n",
       "        vertical-align: middle;\n",
       "    }\n",
       "\n",
       "    .dataframe tbody tr th {\n",
       "        vertical-align: top;\n",
       "    }\n",
       "\n",
       "    .dataframe thead th {\n",
       "        text-align: right;\n",
       "    }\n",
       "</style>\n",
       "<table border=\"1\" class=\"dataframe\">\n",
       "  <thead>\n",
       "    <tr style=\"text-align: right;\">\n",
       "      <th></th>\n",
       "      <th>monthly_charges</th>\n",
       "      <th>tenure</th>\n",
       "      <th>total_charges</th>\n",
       "    </tr>\n",
       "    <tr>\n",
       "      <th>customer_id</th>\n",
       "      <th></th>\n",
       "      <th></th>\n",
       "      <th></th>\n",
       "    </tr>\n",
       "  </thead>\n",
       "  <tbody>\n",
       "    <tr>\n",
       "      <th>0013-SMEOE</th>\n",
       "      <td>109.70</td>\n",
       "      <td>71</td>\n",
       "      <td>7904.25</td>\n",
       "    </tr>\n",
       "    <tr>\n",
       "      <th>0014-BMAQU</th>\n",
       "      <td>84.65</td>\n",
       "      <td>63</td>\n",
       "      <td>5377.80</td>\n",
       "    </tr>\n",
       "    <tr>\n",
       "      <th>0016-QLJIS</th>\n",
       "      <td>90.45</td>\n",
       "      <td>65</td>\n",
       "      <td>5957.90</td>\n",
       "    </tr>\n",
       "    <tr>\n",
       "      <th>0017-DINOC</th>\n",
       "      <td>45.20</td>\n",
       "      <td>54</td>\n",
       "      <td>2460.55</td>\n",
       "    </tr>\n",
       "    <tr>\n",
       "      <th>0017-IUDMW</th>\n",
       "      <td>116.80</td>\n",
       "      <td>72</td>\n",
       "      <td>8456.75</td>\n",
       "    </tr>\n",
       "  </tbody>\n",
       "</table>\n",
       "</div>"
      ],
      "text/plain": [
       "             monthly_charges  tenure  total_charges\n",
       "customer_id                                        \n",
       "0013-SMEOE            109.70      71        7904.25\n",
       "0014-BMAQU             84.65      63        5377.80\n",
       "0016-QLJIS             90.45      65        5957.90\n",
       "0017-DINOC             45.20      54        2460.55\n",
       "0017-IUDMW            116.80      72        8456.75"
      ]
     },
     "execution_count": 38,
     "metadata": {},
     "output_type": "execute_result"
    }
   ],
   "source": [
    "df.head()"
   ]
  },
  {
   "cell_type": "code",
   "execution_count": 39,
   "metadata": {},
   "outputs": [],
   "source": [
    "# split the data in train, validate and test\n",
    "train, test = train_test_split(df, test_size = 0.2, random_state = 123)\n",
    "train, validate = train_test_split(train, test_size = 0.25, random_state = 123)"
   ]
  },
  {
   "cell_type": "code",
   "execution_count": 40,
   "metadata": {},
   "outputs": [
    {
     "data": {
      "text/plain": [
       "((1011, 3), (337, 3), (337, 3))"
      ]
     },
     "execution_count": 40,
     "metadata": {},
     "output_type": "execute_result"
    }
   ],
   "source": [
    "#check the shape\n",
    "train.shape, validate.shape, test.shape"
   ]
  },
  {
   "cell_type": "code",
   "execution_count": 41,
   "metadata": {},
   "outputs": [
    {
     "data": {
      "text/html": [
       "<div>\n",
       "<style scoped>\n",
       "    .dataframe tbody tr th:only-of-type {\n",
       "        vertical-align: middle;\n",
       "    }\n",
       "\n",
       "    .dataframe tbody tr th {\n",
       "        vertical-align: top;\n",
       "    }\n",
       "\n",
       "    .dataframe thead th {\n",
       "        text-align: right;\n",
       "    }\n",
       "</style>\n",
       "<table border=\"1\" class=\"dataframe\">\n",
       "  <thead>\n",
       "    <tr style=\"text-align: right;\">\n",
       "      <th></th>\n",
       "      <th>monthly_charges</th>\n",
       "      <th>tenure</th>\n",
       "      <th>total_charges</th>\n",
       "    </tr>\n",
       "    <tr>\n",
       "      <th>customer_id</th>\n",
       "      <th></th>\n",
       "      <th></th>\n",
       "      <th></th>\n",
       "    </tr>\n",
       "  </thead>\n",
       "  <tbody>\n",
       "    <tr>\n",
       "      <th>7493-GVFIO</th>\n",
       "      <td>20.55</td>\n",
       "      <td>57</td>\n",
       "      <td>1252.85</td>\n",
       "    </tr>\n",
       "    <tr>\n",
       "      <th>6374-NTQLP</th>\n",
       "      <td>104.10</td>\n",
       "      <td>72</td>\n",
       "      <td>7447.70</td>\n",
       "    </tr>\n",
       "    <tr>\n",
       "      <th>9258-CNWAC</th>\n",
       "      <td>113.65</td>\n",
       "      <td>71</td>\n",
       "      <td>8166.80</td>\n",
       "    </tr>\n",
       "    <tr>\n",
       "      <th>2511-ALLCS</th>\n",
       "      <td>24.30</td>\n",
       "      <td>35</td>\n",
       "      <td>821.60</td>\n",
       "    </tr>\n",
       "    <tr>\n",
       "      <th>3836-FZSDJ</th>\n",
       "      <td>24.85</td>\n",
       "      <td>71</td>\n",
       "      <td>1901.00</td>\n",
       "    </tr>\n",
       "  </tbody>\n",
       "</table>\n",
       "</div>"
      ],
      "text/plain": [
       "             monthly_charges  tenure  total_charges\n",
       "customer_id                                        \n",
       "7493-GVFIO             20.55      57        1252.85\n",
       "6374-NTQLP            104.10      72        7447.70\n",
       "9258-CNWAC            113.65      71        8166.80\n",
       "2511-ALLCS             24.30      35         821.60\n",
       "3836-FZSDJ             24.85      71        1901.00"
      ]
     },
     "execution_count": 41,
     "metadata": {},
     "output_type": "execute_result"
    }
   ],
   "source": [
    "train.head()"
   ]
  },
  {
   "cell_type": "markdown",
   "metadata": {},
   "source": [
    "#### **1. Apply the scalers we talked about in this lesson to your data and visualize the results**"
   ]
  },
  {
   "cell_type": "code",
   "execution_count": 42,
   "metadata": {},
   "outputs": [
    {
     "data": {
      "text/plain": [
       "array([[0.02142501],\n",
       "       [0.85401096],\n",
       "       [0.94917788],\n",
       "       ...,\n",
       "       [0.56203288],\n",
       "       [0.86646736],\n",
       "       [0.50572995]])"
      ]
     },
     "execution_count": 42,
     "metadata": {},
     "output_type": "execute_result"
    }
   ],
   "source": [
    "# Define the thing\n",
    "scaler = sklearn.preprocessing.MinMaxScaler()\n",
    "\n",
    "# Fit the thing\n",
    "scaler.fit(train[['monthly_charges']])\n",
    "\n",
    "#transform\n",
    "scaled = scaler.transform(train[['monthly_charges']])\n",
    "\n",
    "\n",
    "# single step to fit and transform\n",
    "scaled = scaler.fit_transform(train[['monthly_charges']])\n",
    "scaled"
   ]
  },
  {
   "cell_type": "code",
   "execution_count": 43,
   "metadata": {},
   "outputs": [],
   "source": [
    "#you can make a new 'scaled' column in original dataframe if you wish\n",
    "train['monthly_charges_scaled']  = scaled  "
   ]
  },
  {
   "cell_type": "code",
   "execution_count": 44,
   "metadata": {},
   "outputs": [
    {
     "data": {
      "text/html": [
       "<div>\n",
       "<style scoped>\n",
       "    .dataframe tbody tr th:only-of-type {\n",
       "        vertical-align: middle;\n",
       "    }\n",
       "\n",
       "    .dataframe tbody tr th {\n",
       "        vertical-align: top;\n",
       "    }\n",
       "\n",
       "    .dataframe thead th {\n",
       "        text-align: right;\n",
       "    }\n",
       "</style>\n",
       "<table border=\"1\" class=\"dataframe\">\n",
       "  <thead>\n",
       "    <tr style=\"text-align: right;\">\n",
       "      <th></th>\n",
       "      <th>monthly_charges</th>\n",
       "      <th>tenure</th>\n",
       "      <th>total_charges</th>\n",
       "      <th>monthly_charges_scaled</th>\n",
       "    </tr>\n",
       "    <tr>\n",
       "      <th>customer_id</th>\n",
       "      <th></th>\n",
       "      <th></th>\n",
       "      <th></th>\n",
       "      <th></th>\n",
       "    </tr>\n",
       "  </thead>\n",
       "  <tbody>\n",
       "    <tr>\n",
       "      <th>7493-GVFIO</th>\n",
       "      <td>20.55</td>\n",
       "      <td>57</td>\n",
       "      <td>1252.85</td>\n",
       "      <td>0.021425</td>\n",
       "    </tr>\n",
       "    <tr>\n",
       "      <th>6374-NTQLP</th>\n",
       "      <td>104.10</td>\n",
       "      <td>72</td>\n",
       "      <td>7447.70</td>\n",
       "      <td>0.854011</td>\n",
       "    </tr>\n",
       "    <tr>\n",
       "      <th>9258-CNWAC</th>\n",
       "      <td>113.65</td>\n",
       "      <td>71</td>\n",
       "      <td>8166.80</td>\n",
       "      <td>0.949178</td>\n",
       "    </tr>\n",
       "    <tr>\n",
       "      <th>2511-ALLCS</th>\n",
       "      <td>24.30</td>\n",
       "      <td>35</td>\n",
       "      <td>821.60</td>\n",
       "      <td>0.058794</td>\n",
       "    </tr>\n",
       "    <tr>\n",
       "      <th>3836-FZSDJ</th>\n",
       "      <td>24.85</td>\n",
       "      <td>71</td>\n",
       "      <td>1901.00</td>\n",
       "      <td>0.064275</td>\n",
       "    </tr>\n",
       "  </tbody>\n",
       "</table>\n",
       "</div>"
      ],
      "text/plain": [
       "             monthly_charges  tenure  total_charges  monthly_charges_scaled\n",
       "customer_id                                                                \n",
       "7493-GVFIO             20.55      57        1252.85                0.021425\n",
       "6374-NTQLP            104.10      72        7447.70                0.854011\n",
       "9258-CNWAC            113.65      71        8166.80                0.949178\n",
       "2511-ALLCS             24.30      35         821.60                0.058794\n",
       "3836-FZSDJ             24.85      71        1901.00                0.064275"
      ]
     },
     "execution_count": 44,
     "metadata": {},
     "output_type": "execute_result"
    }
   ],
   "source": [
    "train.head()"
   ]
  },
  {
   "cell_type": "code",
   "execution_count": 45,
   "metadata": {},
   "outputs": [
    {
     "data": {
      "text/plain": [
       "<matplotlib.collections.PathCollection at 0x7fe87ae0efd0>"
      ]
     },
     "execution_count": 45,
     "metadata": {},
     "output_type": "execute_result"
    },
    {
     "data": {
      "image/png": "[encoded data removed]",
      "text/plain": [
       "<Figure size 432x288 with 1 Axes>"
      ]
     },
     "metadata": {
      "needs_background": "light"
     },
     "output_type": "display_data"
    }
   ],
   "source": [
    "plt.scatter(train.monthly_charges, scaled)"
   ]
  },
  {
   "cell_type": "code",
   "execution_count": 46,
   "metadata": {},
   "outputs": [
    {
     "data": {
      "text/plain": [
       "(array([377.,  10.,  29.,  35.,  87.,  63., 124.,  77.,  99., 110.]),\n",
       " array([ 18.4  ,  28.435,  38.47 ,  48.505,  58.54 ,  68.575,  78.61 ,\n",
       "         88.645,  98.68 , 108.715, 118.75 ]),\n",
       " <BarContainer object of 10 artists>)"
      ]
     },
     "execution_count": 46,
     "metadata": {},
     "output_type": "execute_result"
    },
    {
     "data": {
      "image/png": "[encoded data removed]",
      "text/plain": [
       "<Figure size 432x288 with 1 Axes>"
      ]
     },
     "metadata": {
      "needs_background": "light"
     },
     "output_type": "display_data"
    }
   ],
   "source": [
    "plt.hist(train.monthly_charges)\n"
   ]
  },
  {
   "cell_type": "code",
   "execution_count": 47,
   "metadata": {},
   "outputs": [
    {
     "data": {
      "image/png": "[encoded data removed]",
      "text/plain": [
       "<Figure size 432x288 with 1 Axes>"
      ]
     },
     "metadata": {
      "needs_background": "light"
     },
     "output_type": "display_data"
    }
   ],
   "source": [
    "plt.hist(scaled);"
   ]
  },
  {
   "cell_type": "code",
   "execution_count": 48,
   "metadata": {},
   "outputs": [
    {
     "data": {
      "image/png": "[encoded data removed]",
      "text/plain": [
       "<Figure size 864x432 with 3 Axes>"
      ]
     },
     "metadata": {
      "needs_background": "light"
     },
     "output_type": "display_data"
    }
   ],
   "source": [
    "fig = plt.figure(figsize = (12,6))\n",
    "\n",
    "gs = plt.GridSpec(2,2)\n",
    "\n",
    "ax1 = fig.add_subplot(gs[0, :])\n",
    "ax2 = fig.add_subplot(gs[1,0])\n",
    "ax3 = fig.add_subplot(gs[1,1])\n",
    "\n",
    "ax1.scatter(train.monthly_charges, scaled)\n",
    "ax1.set(xlabel = 'monthly_charges', ylabel = 'Scaled_monthly_charges', title = 'Min-Max Scaler')\n",
    "\n",
    "ax2.hist(train.monthly_charges)\n",
    "ax2.set(title = 'Original')\n",
    "\n",
    "ax3.hist(scaled)\n",
    "ax3.set(title = 'Scaled')\n",
    "plt.tight_layout();"
   ]
  },
  {
   "cell_type": "code",
   "execution_count": 49,
   "metadata": {},
   "outputs": [],
   "source": [
    "def visualize_scaled_date(scaler, scaler_name, feature):\n",
    "    scaled = scaler.fit_transform(train[[feature]])\n",
    "    fig = plt.figure(figsize = (12,6))\n",
    "\n",
    "    gs = plt.GridSpec(2,2)\n",
    "\n",
    "    ax1 = fig.add_subplot(gs[0, :])\n",
    "    ax2 = fig.add_subplot(gs[1,0])\n",
    "    ax3 = fig.add_subplot(gs[1,1])\n",
    "\n",
    "    ax1.scatter(train[[feature]], scaled)\n",
    "    ax1.set(xlabel = feature, ylabel = 'Scaled_' + feature, title = scaler_name)\n",
    "\n",
    "    ax2.hist(train[[feature]])\n",
    "    ax2.set(title = 'Original')\n",
    "\n",
    "    ax3.hist(scaled)\n",
    "    ax3.set(title = 'Scaled')\n",
    "    plt.tight_layout();\n"
   ]
  },
  {
   "cell_type": "code",
   "execution_count": 50,
   "metadata": {},
   "outputs": [
    {
     "data": {
      "image/png": "[encoded data removed]",
      "text/plain": [
       "<Figure size 864x432 with 3 Axes>"
      ]
     },
     "metadata": {
      "needs_background": "light"
     },
     "output_type": "display_data"
    }
   ],
   "source": [
    "visualize_scaled_date(sklearn.preprocessing.MinMaxScaler(), 'Min Max Scaler', 'monthly_charges')"
   ]
  },
  {
   "cell_type": "code",
   "execution_count": 51,
   "metadata": {},
   "outputs": [
    {
     "data": {
      "image/png": "[encoded data removed]",
      "text/plain": [
       "<Figure size 864x432 with 3 Axes>"
      ]
     },
     "metadata": {
      "needs_background": "light"
     },
     "output_type": "display_data"
    }
   ],
   "source": [
    "visualize_scaled_date(sklearn.preprocessing.MinMaxScaler(), 'Min Max Scaler', 'tenure')"
   ]
  },
  {
   "cell_type": "code",
   "execution_count": 52,
   "metadata": {},
   "outputs": [
    {
     "data": {
      "image/png": "[encoded data removed]",
      "text/plain": [
       "<Figure size 864x432 with 3 Axes>"
      ]
     },
     "metadata": {
      "needs_background": "light"
     },
     "output_type": "display_data"
    }
   ],
   "source": [
    "visualize_scaled_date(sklearn.preprocessing.StandardScaler(), 'Standard Scaler', 'monthly_charges')"
   ]
  },
  {
   "cell_type": "code",
   "execution_count": 53,
   "metadata": {},
   "outputs": [
    {
     "data": {
      "image/png": "[encoded data removed]",
      "text/plain": [
       "<Figure size 864x432 with 3 Axes>"
      ]
     },
     "metadata": {
      "needs_background": "light"
     },
     "output_type": "display_data"
    }
   ],
   "source": [
    "visualize_scaled_date(sklearn.preprocessing.StandardScaler(), 'Standard Scaler', 'tenure')"
   ]
  },
  {
   "cell_type": "code",
   "execution_count": 54,
   "metadata": {},
   "outputs": [
    {
     "data": {
      "image/png": "[encoded data removed]",
      "text/plain": [
       "<Figure size 864x432 with 3 Axes>"
      ]
     },
     "metadata": {
      "needs_background": "light"
     },
     "output_type": "display_data"
    }
   ],
   "source": [
    "visualize_scaled_date(sklearn.preprocessing.StandardScaler(), 'Standard Scaler', 'tenure')"
   ]
  },
  {
   "cell_type": "markdown",
   "metadata": {},
   "source": [
    "### 2. Apply the .inverse_transform method to your scaled data. Is the resulting dataset the exact same as the original data?"
   ]
  },
  {
   "cell_type": "code",
   "execution_count": 57,
   "metadata": {},
   "outputs": [
    {
     "data": {
      "text/html": [
       "<div>\n",
       "<style scoped>\n",
       "    .dataframe tbody tr th:only-of-type {\n",
       "        vertical-align: middle;\n",
       "    }\n",
       "\n",
       "    .dataframe tbody tr th {\n",
       "        vertical-align: top;\n",
       "    }\n",
       "\n",
       "    .dataframe thead th {\n",
       "        text-align: right;\n",
       "    }\n",
       "</style>\n",
       "<table border=\"1\" class=\"dataframe\">\n",
       "  <thead>\n",
       "    <tr style=\"text-align: right;\">\n",
       "      <th></th>\n",
       "      <th>monthly_charges</th>\n",
       "      <th>tenure</th>\n",
       "      <th>total_charges</th>\n",
       "      <th>monthly_charges_scaled</th>\n",
       "    </tr>\n",
       "    <tr>\n",
       "      <th>customer_id</th>\n",
       "      <th></th>\n",
       "      <th></th>\n",
       "      <th></th>\n",
       "      <th></th>\n",
       "    </tr>\n",
       "  </thead>\n",
       "  <tbody>\n",
       "    <tr>\n",
       "      <th>7493-GVFIO</th>\n",
       "      <td>20.55</td>\n",
       "      <td>57</td>\n",
       "      <td>1252.85</td>\n",
       "      <td>0.021425</td>\n",
       "    </tr>\n",
       "    <tr>\n",
       "      <th>6374-NTQLP</th>\n",
       "      <td>104.10</td>\n",
       "      <td>72</td>\n",
       "      <td>7447.70</td>\n",
       "      <td>0.854011</td>\n",
       "    </tr>\n",
       "    <tr>\n",
       "      <th>9258-CNWAC</th>\n",
       "      <td>113.65</td>\n",
       "      <td>71</td>\n",
       "      <td>8166.80</td>\n",
       "      <td>0.949178</td>\n",
       "    </tr>\n",
       "    <tr>\n",
       "      <th>2511-ALLCS</th>\n",
       "      <td>24.30</td>\n",
       "      <td>35</td>\n",
       "      <td>821.60</td>\n",
       "      <td>0.058794</td>\n",
       "    </tr>\n",
       "    <tr>\n",
       "      <th>3836-FZSDJ</th>\n",
       "      <td>24.85</td>\n",
       "      <td>71</td>\n",
       "      <td>1901.00</td>\n",
       "      <td>0.064275</td>\n",
       "    </tr>\n",
       "  </tbody>\n",
       "</table>\n",
       "</div>"
      ],
      "text/plain": [
       "             monthly_charges  tenure  total_charges  monthly_charges_scaled\n",
       "customer_id                                                                \n",
       "7493-GVFIO             20.55      57        1252.85                0.021425\n",
       "6374-NTQLP            104.10      72        7447.70                0.854011\n",
       "9258-CNWAC            113.65      71        8166.80                0.949178\n",
       "2511-ALLCS             24.30      35         821.60                0.058794\n",
       "3836-FZSDJ             24.85      71        1901.00                0.064275"
      ]
     },
     "execution_count": 57,
     "metadata": {},
     "output_type": "execute_result"
    }
   ],
   "source": [
    "train.head()"
   ]
  },
  {
   "cell_type": "code",
   "execution_count": 58,
   "metadata": {},
   "outputs": [
    {
     "data": {
      "text/plain": [
       "array([[0.02142501, 0.78873239],\n",
       "       [0.85401096, 1.        ],\n",
       "       [0.94917788, 0.98591549],\n",
       "       ...,\n",
       "       [0.56203288, 0.90140845],\n",
       "       [0.86646736, 0.95774648],\n",
       "       [0.50572995, 0.47887324]])"
      ]
     },
     "execution_count": 58,
     "metadata": {},
     "output_type": "execute_result"
    }
   ],
   "source": [
    "scaler = sklearn.preprocessing.MinMaxScaler()\n",
    "\n",
    "scaled = scaler.fit_transform(train[['monthly_charges', 'tenure']])\n",
    "scaled"
   ]
  },
  {
   "cell_type": "code",
   "execution_count": 59,
   "metadata": {},
   "outputs": [],
   "source": [
    "scaled_df = pd.DataFrame(scaled, index = train.index, columns = ['monthly_charges', 'tenure'])"
   ]
  },
  {
   "cell_type": "code",
   "execution_count": 60,
   "metadata": {},
   "outputs": [
    {
     "data": {
      "text/plain": [
       "array([[ 20.55,  57.  ],\n",
       "       [104.1 ,  72.  ],\n",
       "       [113.65,  71.  ],\n",
       "       ...,\n",
       "       [ 74.8 ,  65.  ],\n",
       "       [105.35,  69.  ],\n",
       "       [ 69.15,  35.  ]])"
      ]
     },
     "execution_count": 60,
     "metadata": {},
     "output_type": "execute_result"
    }
   ],
   "source": [
    "scaler.inverse_transform(scaled_df)"
   ]
  },
  {
   "cell_type": "code",
   "execution_count": 61,
   "metadata": {},
   "outputs": [],
   "source": [
    "scaled_df = pd.DataFrame(scaler.inverse_transform(scaled), index = train.index, columns = ['monthly_charges', 'tenure'])"
   ]
  },
  {
   "cell_type": "markdown",
   "metadata": {},
   "source": [
    "### 3. Read the documentation for sklearn's QuantileTransformer. Use normal for the output_distribution and apply this scaler to your data. Visualize the result of your data scaling."
   ]
  },
  {
   "cell_type": "code",
   "execution_count": 62,
   "metadata": {},
   "outputs": [
    {
     "data": {
      "image/png": "[encoded data removed]",
      "text/plain": [
       "<Figure size 864x432 with 3 Axes>"
      ]
     },
     "metadata": {
      "needs_background": "light"
     },
     "output_type": "display_data"
    }
   ],
   "source": [
    "visualize_scaled_date(sklearn.preprocessing.QuantileTransformer(output_distribution='normal'), 'Quantile Scaler', 'monthly_charges')"
   ]
  },
  {
   "cell_type": "code",
   "execution_count": 63,
   "metadata": {},
   "outputs": [
    {
     "data": {
      "image/png": "[encoded data removed]",
      "text/plain": [
       "<Figure size 864x432 with 3 Axes>"
      ]
     },
     "metadata": {
      "needs_background": "light"
     },
     "output_type": "display_data"
    }
   ],
   "source": [
    "visualize_scaled_date(sklearn.preprocessing.QuantileTransformer(), 'Quantile Scaler', 'monthly_charges')"
   ]
  },
  {
   "cell_type": "code",
   "execution_count": 64,
   "metadata": {},
   "outputs": [
    {
     "data": {
      "image/png": "[encoded data removed]",
      "text/plain": [
       "<Figure size 864x432 with 3 Axes>"
      ]
     },
     "metadata": {
      "needs_background": "light"
     },
     "output_type": "display_data"
    }
   ],
   "source": [
    "visualize_scaled_date(sklearn.preprocessing.QuantileTransformer(output_distribution='normal'), 'Quantile Scaler', 'tenure')"
   ]
  },
  {
   "cell_type": "markdown",
   "metadata": {},
   "source": [
    "### 5. Based on the work you've done, choose a scaling method for your dataset. Write a function within your prepare.py that accepts as input the train, validate, and test data splits, and returns the scaled versions of each. Be sure to only learn the parameters for scaling from your training data!"
   ]
  },
  {
   "cell_type": "code",
   "execution_count": 65,
   "metadata": {},
   "outputs": [],
   "source": [
    "def Standard_Scaler(X_train, X_validate, X_test):\n",
    "    \"\"\"\n",
    "    Takes in X_train, X_validate and X_test dfs with numeric values only\n",
    "    Returns scaler, X_train_scaled, X_validate_scaled, X_test_scaled dfs\n",
    "    \"\"\"\n",
    "\n",
    "    scaler = sklearn.preprocessing.StandardScaler().fit(X_train)\n",
    "    X_train_scaled = pd.DataFrame(scaler.transform(X_train), index = X_train.index, columns = X_train.columns)\n",
    "    X_validate_scaled = pd.DataFrame(scaler.transform(X_validate), index = X_validate.index, columns = X_validate.columns)\n",
    "    X_test_scaled = pd.DataFrame(scaler.transform(X_test), index = X_test.index, columns = X_test.columns)\n",
    "    \n",
    "    return scaler, X_train_scaled, X_validate_scaled, X_test_scaled"
   ]
  },
  {
   "cell_type": "code",
   "execution_count": 66,
   "metadata": {},
   "outputs": [],
   "source": [
    "def Min_Max_Scaler(X_train, X_validate, X_test):\n",
    "    \"\"\"\n",
    "    Takes in X_train, X_validate and X_test dfs with numeric values only\n",
    "    Returns scaler, X_train_scaled, X_validate_scaled, X_test_scaled dfs \n",
    "    \"\"\"\n",
    "    scaler = sklearn.preprocessing.MinMaxScaler().fit(X_train)\n",
    "    X_train_scaled = pd.DataFrame(scaler.transform(X_train), index = X_train.index, columns = X_train.columns)\n",
    "    X_validate_scaled = pd.DataFrame(scaler.transform(X_validate), index = X_validate.index, columns = X_validate.columns)\n",
    "    X_test_scaled = pd.DataFrame(scaler.transform(X_test), index = X_test.index, columns = X_test.columns)\n",
    "    \n",
    "    return scaler, X_train_scaled, X_validate_scaled, X_test_scaled"
   ]
  },
  {
   "cell_type": "code",
   "execution_count": 67,
   "metadata": {},
   "outputs": [],
   "source": [
    "X_train = train[['monthly_charges', 'tenure']]\n",
    "X_validate = test[['monthly_charges', 'tenure']]\n",
    "X_test = test[['monthly_charges', 'tenure']]"
   ]
  },
  {
   "cell_type": "code",
   "execution_count": 68,
   "metadata": {},
   "outputs": [
    {
     "data": {
      "text/html": [
       "<div>\n",
       "<style scoped>\n",
       "    .dataframe tbody tr th:only-of-type {\n",
       "        vertical-align: middle;\n",
       "    }\n",
       "\n",
       "    .dataframe tbody tr th {\n",
       "        vertical-align: top;\n",
       "    }\n",
       "\n",
       "    .dataframe thead th {\n",
       "        text-align: right;\n",
       "    }\n",
       "</style>\n",
       "<table border=\"1\" class=\"dataframe\">\n",
       "  <thead>\n",
       "    <tr style=\"text-align: right;\">\n",
       "      <th></th>\n",
       "      <th>monthly_charges</th>\n",
       "      <th>tenure</th>\n",
       "    </tr>\n",
       "    <tr>\n",
       "      <th>customer_id</th>\n",
       "      <th></th>\n",
       "      <th></th>\n",
       "    </tr>\n",
       "  </thead>\n",
       "  <tbody>\n",
       "    <tr>\n",
       "      <th>7493-GVFIO</th>\n",
       "      <td>-1.164231</td>\n",
       "      <td>-0.024491</td>\n",
       "    </tr>\n",
       "    <tr>\n",
       "      <th>6374-NTQLP</th>\n",
       "      <td>1.230890</td>\n",
       "      <td>0.831297</td>\n",
       "    </tr>\n",
       "    <tr>\n",
       "      <th>9258-CNWAC</th>\n",
       "      <td>1.504659</td>\n",
       "      <td>0.774244</td>\n",
       "    </tr>\n",
       "    <tr>\n",
       "      <th>2511-ALLCS</th>\n",
       "      <td>-1.056730</td>\n",
       "      <td>-1.279648</td>\n",
       "    </tr>\n",
       "    <tr>\n",
       "      <th>3836-FZSDJ</th>\n",
       "      <td>-1.040964</td>\n",
       "      <td>0.774244</td>\n",
       "    </tr>\n",
       "  </tbody>\n",
       "</table>\n",
       "</div>"
      ],
      "text/plain": [
       "             monthly_charges    tenure\n",
       "customer_id                           \n",
       "7493-GVFIO         -1.164231 -0.024491\n",
       "6374-NTQLP          1.230890  0.831297\n",
       "9258-CNWAC          1.504659  0.774244\n",
       "2511-ALLCS         -1.056730 -1.279648\n",
       "3836-FZSDJ         -1.040964  0.774244"
      ]
     },
     "execution_count": 68,
     "metadata": {},
     "output_type": "execute_result"
    }
   ],
   "source": [
    "# Use the Standard_Scaler Function defined above\n",
    "\n",
    "scaler, X_train_scaled, X_validate_scaled, X_test_scaled = Standard_Scaler(X_train, X_validate, X_test)\n",
    "\n",
    "X_train_scaled.head()"
   ]
  },
  {
   "cell_type": "markdown",
   "metadata": {},
   "source": [
    "## Effect of outliers on scaling \n",
    "\n",
    "https://scikit-learn.org/stable/auto_examples/preprocessing/plot_all_scaling.html#sphx-glr-auto-examples-preprocessing-plot-all-scaling-py"
   ]
  },
  {
   "cell_type": "code",
   "execution_count": 70,
   "metadata": {},
   "outputs": [
    {
     "data": {
      "text/html": [
       "<div>\n",
       "<style scoped>\n",
       "    .dataframe tbody tr th:only-of-type {\n",
       "        vertical-align: middle;\n",
       "    }\n",
       "\n",
       "    .dataframe tbody tr th {\n",
       "        vertical-align: top;\n",
       "    }\n",
       "\n",
       "    .dataframe thead th {\n",
       "        text-align: right;\n",
       "    }\n",
       "</style>\n",
       "<table border=\"1\" class=\"dataframe\">\n",
       "  <thead>\n",
       "    <tr style=\"text-align: right;\">\n",
       "      <th></th>\n",
       "      <th>parcelid</th>\n",
       "      <th>id</th>\n",
       "      <th>airconditioningtypeid</th>\n",
       "      <th>architecturalstyletypeid</th>\n",
       "      <th>basementsqft</th>\n",
       "      <th>bathroomcnt</th>\n",
       "      <th>bedroomcnt</th>\n",
       "      <th>buildingclasstypeid</th>\n",
       "      <th>buildingqualitytypeid</th>\n",
       "      <th>calculatedbathnbr</th>\n",
       "      <th>...</th>\n",
       "      <th>taxvaluedollarcnt</th>\n",
       "      <th>assessmentyear</th>\n",
       "      <th>landtaxvaluedollarcnt</th>\n",
       "      <th>taxamount</th>\n",
       "      <th>taxdelinquencyflag</th>\n",
       "      <th>taxdelinquencyyear</th>\n",
       "      <th>censustractandblock</th>\n",
       "      <th>id</th>\n",
       "      <th>logerror</th>\n",
       "      <th>transactiondate</th>\n",
       "    </tr>\n",
       "  </thead>\n",
       "  <tbody>\n",
       "    <tr>\n",
       "      <th>0</th>\n",
       "      <td>11393337</td>\n",
       "      <td>2463969</td>\n",
       "      <td>NaN</td>\n",
       "      <td>NaN</td>\n",
       "      <td>NaN</td>\n",
       "      <td>3.0</td>\n",
       "      <td>3.0</td>\n",
       "      <td>NaN</td>\n",
       "      <td>4.0</td>\n",
       "      <td>3.0</td>\n",
       "      <td>...</td>\n",
       "      <td>43439.0</td>\n",
       "      <td>2016.0</td>\n",
       "      <td>22755.0</td>\n",
       "      <td>756.94</td>\n",
       "      <td>Y</td>\n",
       "      <td>14.0</td>\n",
       "      <td>6.037235e+13</td>\n",
       "      <td>117</td>\n",
       "      <td>0.086137</td>\n",
       "      <td>2017-06-08</td>\n",
       "    </tr>\n",
       "    <tr>\n",
       "      <th>1</th>\n",
       "      <td>11289917</td>\n",
       "      <td>2061546</td>\n",
       "      <td>1.0</td>\n",
       "      <td>NaN</td>\n",
       "      <td>NaN</td>\n",
       "      <td>2.0</td>\n",
       "      <td>3.0</td>\n",
       "      <td>NaN</td>\n",
       "      <td>6.0</td>\n",
       "      <td>2.0</td>\n",
       "      <td>...</td>\n",
       "      <td>136104.0</td>\n",
       "      <td>2016.0</td>\n",
       "      <td>27214.0</td>\n",
       "      <td>2319.90</td>\n",
       "      <td>Y</td>\n",
       "      <td>15.0</td>\n",
       "      <td>6.037901e+13</td>\n",
       "      <td>1248</td>\n",
       "      <td>-0.362001</td>\n",
       "      <td>2017-06-23</td>\n",
       "    </tr>\n",
       "    <tr>\n",
       "      <th>2</th>\n",
       "      <td>11705026</td>\n",
       "      <td>1834372</td>\n",
       "      <td>NaN</td>\n",
       "      <td>NaN</td>\n",
       "      <td>NaN</td>\n",
       "      <td>1.0</td>\n",
       "      <td>2.0</td>\n",
       "      <td>NaN</td>\n",
       "      <td>6.0</td>\n",
       "      <td>1.0</td>\n",
       "      <td>...</td>\n",
       "      <td>35606.0</td>\n",
       "      <td>2016.0</td>\n",
       "      <td>23624.0</td>\n",
       "      <td>543.69</td>\n",
       "      <td>None</td>\n",
       "      <td>NaN</td>\n",
       "      <td>6.037232e+13</td>\n",
       "      <td>1772</td>\n",
       "      <td>-0.146056</td>\n",
       "      <td>2017-06-30</td>\n",
       "    </tr>\n",
       "    <tr>\n",
       "      <th>3</th>\n",
       "      <td>14269464</td>\n",
       "      <td>1923117</td>\n",
       "      <td>NaN</td>\n",
       "      <td>NaN</td>\n",
       "      <td>NaN</td>\n",
       "      <td>3.0</td>\n",
       "      <td>4.0</td>\n",
       "      <td>NaN</td>\n",
       "      <td>NaN</td>\n",
       "      <td>3.0</td>\n",
       "      <td>...</td>\n",
       "      <td>880456.0</td>\n",
       "      <td>2016.0</td>\n",
       "      <td>445569.0</td>\n",
       "      <td>9819.72</td>\n",
       "      <td>None</td>\n",
       "      <td>NaN</td>\n",
       "      <td>6.059064e+13</td>\n",
       "      <td>2028</td>\n",
       "      <td>0.021085</td>\n",
       "      <td>2017-06-01</td>\n",
       "    </tr>\n",
       "    <tr>\n",
       "      <th>4</th>\n",
       "      <td>11389003</td>\n",
       "      <td>2121349</td>\n",
       "      <td>NaN</td>\n",
       "      <td>NaN</td>\n",
       "      <td>NaN</td>\n",
       "      <td>2.0</td>\n",
       "      <td>3.0</td>\n",
       "      <td>NaN</td>\n",
       "      <td>6.0</td>\n",
       "      <td>2.0</td>\n",
       "      <td>...</td>\n",
       "      <td>614000.0</td>\n",
       "      <td>2016.0</td>\n",
       "      <td>449000.0</td>\n",
       "      <td>7673.19</td>\n",
       "      <td>None</td>\n",
       "      <td>NaN</td>\n",
       "      <td>6.037703e+13</td>\n",
       "      <td>3273</td>\n",
       "      <td>-0.325393</td>\n",
       "      <td>2017-06-01</td>\n",
       "    </tr>\n",
       "  </tbody>\n",
       "</table>\n",
       "<p>5 rows × 62 columns</p>\n",
       "</div>"
      ],
      "text/plain": [
       "   parcelid       id  airconditioningtypeid  architecturalstyletypeid  \\\n",
       "0  11393337  2463969                    NaN                       NaN   \n",
       "1  11289917  2061546                    1.0                       NaN   \n",
       "2  11705026  1834372                    NaN                       NaN   \n",
       "3  14269464  1923117                    NaN                       NaN   \n",
       "4  11389003  2121349                    NaN                       NaN   \n",
       "\n",
       "   basementsqft  bathroomcnt  bedroomcnt  buildingclasstypeid  \\\n",
       "0           NaN          3.0         3.0                  NaN   \n",
       "1           NaN          2.0         3.0                  NaN   \n",
       "2           NaN          1.0         2.0                  NaN   \n",
       "3           NaN          3.0         4.0                  NaN   \n",
       "4           NaN          2.0         3.0                  NaN   \n",
       "\n",
       "   buildingqualitytypeid  calculatedbathnbr  ...  taxvaluedollarcnt  \\\n",
       "0                    4.0                3.0  ...            43439.0   \n",
       "1                    6.0                2.0  ...           136104.0   \n",
       "2                    6.0                1.0  ...            35606.0   \n",
       "3                    NaN                3.0  ...           880456.0   \n",
       "4                    6.0                2.0  ...           614000.0   \n",
       "\n",
       "   assessmentyear  landtaxvaluedollarcnt  taxamount  taxdelinquencyflag  \\\n",
       "0          2016.0                22755.0     756.94                   Y   \n",
       "1          2016.0                27214.0    2319.90                   Y   \n",
       "2          2016.0                23624.0     543.69                None   \n",
       "3          2016.0               445569.0    9819.72                None   \n",
       "4          2016.0               449000.0    7673.19                None   \n",
       "\n",
       "   taxdelinquencyyear  censustractandblock    id  logerror  transactiondate  \n",
       "0                14.0         6.037235e+13   117  0.086137       2017-06-08  \n",
       "1                15.0         6.037901e+13  1248 -0.362001       2017-06-23  \n",
       "2                 NaN         6.037232e+13  1772 -0.146056       2017-06-30  \n",
       "3                 NaN         6.059064e+13  2028  0.021085       2017-06-01  \n",
       "4                 NaN         6.037703e+13  3273 -0.325393       2017-06-01  \n",
       "\n",
       "[5 rows x 62 columns]"
      ]
     },
     "execution_count": 70,
     "metadata": {},
     "output_type": "execute_result"
    }
   ],
   "source": [
    "# connection function for accessing mysql \n",
    "def get_connection(db, user=env.user, host=env.host, password=env.password):\n",
    "    return f'mysql+pymysql://{user}:{password}@{host}/{db}'\n",
    "\n",
    "query = \"\"\"\n",
    "select * \n",
    "from properties_2017\n",
    "join predictions_2017 using(parcelid)\n",
    "where transactiondate between \"2017-05-01\" and \"2017-06-30\";\n",
    "\"\"\"\n",
    "\n",
    "df = pd.read_sql(query, get_connection('zillow'))\n",
    "df.head()"
   ]
  },
  {
   "cell_type": "code",
   "execution_count": 71,
   "metadata": {},
   "outputs": [],
   "source": [
    "# Some prep\n",
    "df = df.rename(columns={\"bedroomcnt\": \"bedrooms\", \"bathroomcnt\": \"bathrooms\", \"calculatedfinishedsquarefeet\": \"square_feet\", \"taxamount\": \"taxes\", \"taxvaluedollarcnt\": \"tax_value\"})"
   ]
  },
  {
   "cell_type": "code",
   "execution_count": 74,
   "metadata": {},
   "outputs": [
    {
     "data": {
      "text/html": [
       "<div>\n",
       "<style scoped>\n",
       "    .dataframe tbody tr th:only-of-type {\n",
       "        vertical-align: middle;\n",
       "    }\n",
       "\n",
       "    .dataframe tbody tr th {\n",
       "        vertical-align: top;\n",
       "    }\n",
       "\n",
       "    .dataframe thead th {\n",
       "        text-align: right;\n",
       "    }\n",
       "</style>\n",
       "<table border=\"1\" class=\"dataframe\">\n",
       "  <thead>\n",
       "    <tr style=\"text-align: right;\">\n",
       "      <th></th>\n",
       "      <th>parcelid</th>\n",
       "      <th>id</th>\n",
       "      <th>airconditioningtypeid</th>\n",
       "      <th>architecturalstyletypeid</th>\n",
       "      <th>basementsqft</th>\n",
       "      <th>bathrooms</th>\n",
       "      <th>bedrooms</th>\n",
       "      <th>buildingclasstypeid</th>\n",
       "      <th>buildingqualitytypeid</th>\n",
       "      <th>calculatedbathnbr</th>\n",
       "      <th>...</th>\n",
       "      <th>tax_value</th>\n",
       "      <th>assessmentyear</th>\n",
       "      <th>landtaxvaluedollarcnt</th>\n",
       "      <th>taxes</th>\n",
       "      <th>taxdelinquencyflag</th>\n",
       "      <th>taxdelinquencyyear</th>\n",
       "      <th>censustractandblock</th>\n",
       "      <th>id</th>\n",
       "      <th>logerror</th>\n",
       "      <th>transactiondate</th>\n",
       "    </tr>\n",
       "  </thead>\n",
       "  <tbody>\n",
       "  </tbody>\n",
       "</table>\n",
       "<p>0 rows × 62 columns</p>\n",
       "</div>"
      ],
      "text/plain": [
       "Empty DataFrame\n",
       "Columns: [parcelid, id, airconditioningtypeid, architecturalstyletypeid, basementsqft, bathrooms, bedrooms, buildingclasstypeid, buildingqualitytypeid, calculatedbathnbr, decktypeid, finishedfloor1squarefeet, square_feet, finishedsquarefeet12, finishedsquarefeet13, finishedsquarefeet15, finishedsquarefeet50, finishedsquarefeet6, fips, fireplacecnt, fullbathcnt, garagecarcnt, garagetotalsqft, hashottuborspa, heatingorsystemtypeid, latitude, longitude, lotsizesquarefeet, poolcnt, poolsizesum, pooltypeid10, pooltypeid2, pooltypeid7, propertycountylandusecode, propertylandusetypeid, propertyzoningdesc, rawcensustractandblock, regionidcity, regionidcounty, regionidneighborhood, regionidzip, roomcnt, storytypeid, threequarterbathnbr, typeconstructiontypeid, unitcnt, yardbuildingsqft17, yardbuildingsqft26, yearbuilt, numberofstories, fireplaceflag, structuretaxvaluedollarcnt, tax_value, assessmentyear, landtaxvaluedollarcnt, taxes, taxdelinquencyflag, taxdelinquencyyear, censustractandblock, id, logerror, transactiondate]\n",
       "Index: []\n",
       "\n",
       "[0 rows x 62 columns]"
      ]
     },
     "execution_count": 74,
     "metadata": {},
     "output_type": "execute_result"
    }
   ],
   "source": [
    "# Let's drop the nulls\n",
    "df = df.dropna()\n",
    "df.head()"
   ]
  },
  {
   "cell_type": "code",
   "execution_count": 75,
   "metadata": {},
   "outputs": [
    {
     "ename": "ValueError",
     "evalue": "With n_samples=0, test_size=0.2 and train_size=None, the resulting train set will be empty. Adjust any of the aforementioned parameters.",
     "output_type": "error",
     "traceback": [
      "\u001b[0;31m---------------------------------------------------------------------------\u001b[0m",
      "\u001b[0;31mValueError\u001b[0m                                Traceback (most recent call last)",
      "\u001b[0;32m<ipython-input-75-df46f6210c54>\u001b[0m in \u001b[0;36m<module>\u001b[0;34m\u001b[0m\n\u001b[1;32m      1\u001b[0m \u001b[0;31m# split the data in train, validate and test\u001b[0m\u001b[0;34m\u001b[0m\u001b[0;34m\u001b[0m\u001b[0;34m\u001b[0m\u001b[0m\n\u001b[0;32m----> 2\u001b[0;31m \u001b[0mtrain\u001b[0m\u001b[0;34m,\u001b[0m \u001b[0mtest\u001b[0m \u001b[0;34m=\u001b[0m \u001b[0mtrain_test_split\u001b[0m\u001b[0;34m(\u001b[0m\u001b[0mdf\u001b[0m\u001b[0;34m,\u001b[0m \u001b[0mtest_size\u001b[0m \u001b[0;34m=\u001b[0m \u001b[0;36m0.2\u001b[0m\u001b[0;34m,\u001b[0m \u001b[0mrandom_state\u001b[0m \u001b[0;34m=\u001b[0m \u001b[0;36m123\u001b[0m\u001b[0;34m)\u001b[0m\u001b[0;34m\u001b[0m\u001b[0;34m\u001b[0m\u001b[0m\n\u001b[0m\u001b[1;32m      3\u001b[0m \u001b[0mtrain\u001b[0m\u001b[0;34m,\u001b[0m \u001b[0mvalidate\u001b[0m \u001b[0;34m=\u001b[0m \u001b[0mtrain_test_split\u001b[0m\u001b[0;34m(\u001b[0m\u001b[0mtrain\u001b[0m\u001b[0;34m,\u001b[0m \u001b[0mtest_size\u001b[0m \u001b[0;34m=\u001b[0m \u001b[0;36m0.25\u001b[0m\u001b[0;34m,\u001b[0m \u001b[0mrandom_state\u001b[0m \u001b[0;34m=\u001b[0m \u001b[0;36m123\u001b[0m\u001b[0;34m)\u001b[0m\u001b[0;34m\u001b[0m\u001b[0;34m\u001b[0m\u001b[0m\n",
      "\u001b[0;32m/usr/local/anaconda3/lib/python3.8/site-packages/sklearn/model_selection/_split.py\u001b[0m in \u001b[0;36mtrain_test_split\u001b[0;34m(*arrays, **options)\u001b[0m\n\u001b[1;32m   2128\u001b[0m \u001b[0;34m\u001b[0m\u001b[0m\n\u001b[1;32m   2129\u001b[0m     \u001b[0mn_samples\u001b[0m \u001b[0;34m=\u001b[0m \u001b[0m_num_samples\u001b[0m\u001b[0;34m(\u001b[0m\u001b[0marrays\u001b[0m\u001b[0;34m[\u001b[0m\u001b[0;36m0\u001b[0m\u001b[0;34m]\u001b[0m\u001b[0;34m)\u001b[0m\u001b[0;34m\u001b[0m\u001b[0;34m\u001b[0m\u001b[0m\n\u001b[0;32m-> 2130\u001b[0;31m     n_train, n_test = _validate_shuffle_split(n_samples, test_size, train_size,\n\u001b[0m\u001b[1;32m   2131\u001b[0m                                               default_test_size=0.25)\n\u001b[1;32m   2132\u001b[0m \u001b[0;34m\u001b[0m\u001b[0m\n",
      "\u001b[0;32m/usr/local/anaconda3/lib/python3.8/site-packages/sklearn/model_selection/_split.py\u001b[0m in \u001b[0;36m_validate_shuffle_split\u001b[0;34m(n_samples, test_size, train_size, default_test_size)\u001b[0m\n\u001b[1;32m   1808\u001b[0m \u001b[0;34m\u001b[0m\u001b[0m\n\u001b[1;32m   1809\u001b[0m     \u001b[0;32mif\u001b[0m \u001b[0mn_train\u001b[0m \u001b[0;34m==\u001b[0m \u001b[0;36m0\u001b[0m\u001b[0;34m:\u001b[0m\u001b[0;34m\u001b[0m\u001b[0;34m\u001b[0m\u001b[0m\n\u001b[0;32m-> 1810\u001b[0;31m         raise ValueError(\n\u001b[0m\u001b[1;32m   1811\u001b[0m             \u001b[0;34m'With n_samples={}, test_size={} and train_size={}, the '\u001b[0m\u001b[0;34m\u001b[0m\u001b[0;34m\u001b[0m\u001b[0m\n\u001b[1;32m   1812\u001b[0m             \u001b[0;34m'resulting train set will be empty. Adjust any of the '\u001b[0m\u001b[0;34m\u001b[0m\u001b[0;34m\u001b[0m\u001b[0m\n",
      "\u001b[0;31mValueError\u001b[0m: With n_samples=0, test_size=0.2 and train_size=None, the resulting train set will be empty. Adjust any of the aforementioned parameters."
     ]
    }
   ],
   "source": [
    "# split the data in train, validate and test\n",
    "train, test = train_test_split(df, test_size = 0.2, random_state = 123)\n",
    "train, validate = train_test_split(train, test_size = 0.25, random_state = 123)"
   ]
  },
  {
   "cell_type": "code",
   "execution_count": null,
   "metadata": {},
   "outputs": [],
   "source": [
    "#Train dataframe, but with outliers removed\n",
    "train_no_outliers = train[train.tax_value <= 2_000_000]"
   ]
  },
  {
   "cell_type": "code",
   "execution_count": null,
   "metadata": {},
   "outputs": [],
   "source": []
  },
  {
   "cell_type": "code",
   "execution_count": null,
   "metadata": {},
   "outputs": [],
   "source": []
  },
  {
   "cell_type": "code",
   "execution_count": null,
   "metadata": {},
   "outputs": [],
   "source": []
  },
  {
   "cell_type": "code",
   "execution_count": null,
   "metadata": {},
   "outputs": [],
   "source": []
  },
  {
   "cell_type": "code",
   "execution_count": null,
   "metadata": {},
   "outputs": [],
   "source": []
  }
 ],
 "metadata": {
  "kernelspec": {
   "display_name": "Python 3",
   "language": "python",
   "name": "python3"
  },
  "language_info": {
   "codemirror_mode": {
    "name": "ipython",
    "version": 3
   },
   "file_extension": ".py",
   "mimetype": "text/x-python",
   "name": "python",
   "nbconvert_exporter": "python",
   "pygments_lexer": "ipython3",
   "version": "3.8.5"
  }
 },
 "nbformat": 4,
 "nbformat_minor": 4
}
